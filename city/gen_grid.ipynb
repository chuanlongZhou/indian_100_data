{
 "cells": [
  {
   "cell_type": "code",
   "execution_count": 1,
   "metadata": {},
   "outputs": [],
   "source": [
    "%load_ext autoreload\n",
    "%autoreload 2"
   ]
  },
  {
   "cell_type": "code",
   "execution_count": 5,
   "metadata": {},
   "outputs": [],
   "source": [
    "import geopandas as gpd\n",
    "import numpy as np\n",
    "from shapely.geometry import box, Polygon\n",
    "\n",
    "def create_grid(geojson_path, output_path, city, resolution=500):\n",
    "    # Load the GeoJSON file\n",
    "    city_gdf = gpd.read_file(geojson_path)\n",
    "    city_gdf = city_gdf.to_crs(epsg=3857)\n",
    "    city_boundary = city_gdf.unary_union  # Combine all geometries into one\n",
    "\n",
    "    # Get the bounding box of the city's boundary\n",
    "    minx, miny, maxx, maxy = city_boundary.bounds\n",
    "\n",
    "    # Create a grid of boxes\n",
    "    grid_cells = []\n",
    "    x_coords = np.arange(minx, maxx, resolution)\n",
    "    y_coords = np.arange(miny, maxy, resolution)\n",
    "    \n",
    "    for x in x_coords:\n",
    "        for y in y_coords:\n",
    "            grid_cell = box(x, y, x + resolution, y + resolution)\n",
    "            if grid_cell.intersects(city_boundary):\n",
    "                grid_cells.append(grid_cell)\n",
    "\n",
    "    # Create a GeoDataFrame for the grid\n",
    "    grid_gdf = gpd.GeoDataFrame({'geometry': grid_cells}, crs=city_gdf.crs)\n",
    "    # adding index to the grid using row number and city name\n",
    "    grid_gdf['index'] = grid_gdf.index.values\n",
    "    grid_gdf['index'] = city + '_' + grid_gdf['index'].astype(str)\n",
    "    \n",
    "    # Clip the grid to the city boundary\n",
    "    clipped_grid = gpd.clip(grid_gdf, city_boundary)\n",
    "\n",
    "    # Save the result as a GeoJSON file\n",
    "    grid_gdf.to_file(output_path, driver=\"GeoJSON\")\n",
    "    \n",
    "    return clipped_grid, grid_gdf, city_gdf\n",
    "\n",
    "import os\n",
    "files = os.listdir(\"Urban Local Boundary\")\n",
    "\n",
    "for file in files:\n",
    "    city = file.split(\".\")[0]\n",
    "    geojson_file = \"Urban Local Boundary\\\\\" + file\n",
    "    output_file = \"gridded\\\\\" + file\n",
    "    clipped_grid, grid_gdf, city_gdf = create_grid(geojson_file, output_file, city)\n",
    "\n"
   ]
  },
  {
   "cell_type": "code",
   "execution_count": 10,
   "metadata": {},
   "outputs": [],
   "source": [
    "m = None\n",
    "for file in os.listdir(\"gridded\"):\n",
    "    gdf = gpd.read_file(\"gridded\\\\\" + file)\n",
    "    if m is None:\n",
    "        m = gdf.explore()\n",
    "    else:\n",
    "        gdf.explore(m=m)\n"
   ]
  },
  {
   "cell_type": "code",
   "execution_count": null,
   "metadata": {},
   "outputs": [],
   "source": []
  }
 ],
 "metadata": {
  "kernelspec": {
   "display_name": "urban",
   "language": "python",
   "name": "python3"
  },
  "language_info": {
   "codemirror_mode": {
    "name": "ipython",
    "version": 3
   },
   "file_extension": ".py",
   "mimetype": "text/x-python",
   "name": "python",
   "nbconvert_exporter": "python",
   "pygments_lexer": "ipython3",
   "version": "3.11.10"
  }
 },
 "nbformat": 4,
 "nbformat_minor": 2
}
